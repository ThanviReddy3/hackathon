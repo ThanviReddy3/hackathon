{
 "cells": [
  {
   "cell_type": "markdown",
   "id": "b66a19b0",
   "metadata": {},
   "source": [
    "## Importing Libraries"
   ]
  },
  {
   "cell_type": "code",
   "execution_count": 1,
   "id": "c1ab5980",
   "metadata": {},
   "outputs": [],
   "source": [
    "import pandas as pd\n",
    "import numpy as np"
   ]
  },
  {
   "cell_type": "markdown",
   "id": "bcd5a7a4",
   "metadata": {},
   "source": [
    "## Loading datasets"
   ]
  },
  {
   "cell_type": "code",
   "execution_count": 2,
   "id": "7224845f",
   "metadata": {},
   "outputs": [],
   "source": [
    "movies = pd.read_csv(r\"C:\\Users\\india\\Downloads\\movie_data\\movies.csv\")"
   ]
  },
  {
   "cell_type": "code",
   "execution_count": 3,
   "id": "203fcd87",
   "metadata": {},
   "outputs": [],
   "source": [
    "rating = pd.read_csv(r\"C:\\Users\\india\\Downloads\\movie_data\\ratings.csv\")"
   ]
  },
  {
   "cell_type": "code",
   "execution_count": 4,
   "id": "db5e2707",
   "metadata": {},
   "outputs": [],
   "source": [
    "tags = pd.read_csv(r\"C:\\Users\\india\\Downloads\\movie_data\\tags.csv\")"
   ]
  },
  {
   "cell_type": "code",
   "execution_count": 5,
   "id": "88f7a9b0",
   "metadata": {},
   "outputs": [],
   "source": [
    "links = pd.read_csv(r\"C:\\Users\\india\\Downloads\\movie_data\\links.csv\")"
   ]
  },
  {
   "cell_type": "markdown",
   "id": "9bc12eda",
   "metadata": {},
   "source": [
    "What is the shape of \"movies.csv\"?"
   ]
  },
  {
   "cell_type": "code",
   "execution_count": 6,
   "id": "03f93f5b",
   "metadata": {},
   "outputs": [
    {
     "data": {
      "text/plain": [
       "(9742, 3)"
      ]
     },
     "execution_count": 6,
     "metadata": {},
     "output_type": "execute_result"
    }
   ],
   "source": [
    "movies.shape"
   ]
  },
  {
   "cell_type": "markdown",
   "id": "f39a91c3",
   "metadata": {},
   "source": [
    "What is the shape of \"ratings.csv\"?"
   ]
  },
  {
   "cell_type": "code",
   "execution_count": 7,
   "id": "57beadf0",
   "metadata": {},
   "outputs": [
    {
     "data": {
      "text/plain": [
       "(100836, 4)"
      ]
     },
     "execution_count": 7,
     "metadata": {},
     "output_type": "execute_result"
    }
   ],
   "source": [
    "rating.shape"
   ]
  },
  {
   "cell_type": "markdown",
   "id": "5c5b9abc",
   "metadata": {},
   "source": [
    "How many unique \"userId\" are available in \"ratings.csv\"?\n"
   ]
  },
  {
   "cell_type": "code",
   "execution_count": 8,
   "id": "18f62552",
   "metadata": {},
   "outputs": [
    {
     "data": {
      "text/plain": [
       "610"
      ]
     },
     "execution_count": 8,
     "metadata": {},
     "output_type": "execute_result"
    }
   ],
   "source": [
    "rating['userId'].nunique()"
   ]
  },
  {
   "cell_type": "code",
   "execution_count": 9,
   "id": "1236ef0f",
   "metadata": {},
   "outputs": [
    {
     "data": {
      "text/plain": [
       "userId         610\n",
       "movieId       9724\n",
       "rating          10\n",
       "timestamp    85043\n",
       "dtype: int64"
      ]
     },
     "execution_count": 9,
     "metadata": {},
     "output_type": "execute_result"
    }
   ],
   "source": [
    "rating.nunique()"
   ]
  },
  {
   "cell_type": "code",
   "execution_count": 10,
   "id": "161904b3",
   "metadata": {},
   "outputs": [
    {
     "data": {
      "text/html": [
       "<div>\n",
       "<style scoped>\n",
       "    .dataframe tbody tr th:only-of-type {\n",
       "        vertical-align: middle;\n",
       "    }\n",
       "\n",
       "    .dataframe tbody tr th {\n",
       "        vertical-align: top;\n",
       "    }\n",
       "\n",
       "    .dataframe thead th {\n",
       "        text-align: right;\n",
       "    }\n",
       "</style>\n",
       "<table border=\"1\" class=\"dataframe\">\n",
       "  <thead>\n",
       "    <tr style=\"text-align: right;\">\n",
       "      <th></th>\n",
       "      <th>movieId</th>\n",
       "      <th>title</th>\n",
       "      <th>genres</th>\n",
       "    </tr>\n",
       "  </thead>\n",
       "  <tbody>\n",
       "    <tr>\n",
       "      <th>0</th>\n",
       "      <td>1</td>\n",
       "      <td>Toy Story (1995)</td>\n",
       "      <td>Adventure|Animation|Children|Comedy|Fantasy</td>\n",
       "    </tr>\n",
       "    <tr>\n",
       "      <th>1</th>\n",
       "      <td>2</td>\n",
       "      <td>Jumanji (1995)</td>\n",
       "      <td>Adventure|Children|Fantasy</td>\n",
       "    </tr>\n",
       "    <tr>\n",
       "      <th>2</th>\n",
       "      <td>3</td>\n",
       "      <td>Grumpier Old Men (1995)</td>\n",
       "      <td>Comedy|Romance</td>\n",
       "    </tr>\n",
       "    <tr>\n",
       "      <th>3</th>\n",
       "      <td>4</td>\n",
       "      <td>Waiting to Exhale (1995)</td>\n",
       "      <td>Comedy|Drama|Romance</td>\n",
       "    </tr>\n",
       "    <tr>\n",
       "      <th>4</th>\n",
       "      <td>5</td>\n",
       "      <td>Father of the Bride Part II (1995)</td>\n",
       "      <td>Comedy</td>\n",
       "    </tr>\n",
       "  </tbody>\n",
       "</table>\n",
       "</div>"
      ],
      "text/plain": [
       "   movieId                               title  \\\n",
       "0        1                    Toy Story (1995)   \n",
       "1        2                      Jumanji (1995)   \n",
       "2        3             Grumpier Old Men (1995)   \n",
       "3        4            Waiting to Exhale (1995)   \n",
       "4        5  Father of the Bride Part II (1995)   \n",
       "\n",
       "                                        genres  \n",
       "0  Adventure|Animation|Children|Comedy|Fantasy  \n",
       "1                   Adventure|Children|Fantasy  \n",
       "2                               Comedy|Romance  \n",
       "3                         Comedy|Drama|Romance  \n",
       "4                                       Comedy  "
      ]
     },
     "execution_count": 10,
     "metadata": {},
     "output_type": "execute_result"
    }
   ],
   "source": [
    "movies.head()"
   ]
  },
  {
   "cell_type": "code",
   "execution_count": 11,
   "id": "2be1cbda",
   "metadata": {},
   "outputs": [
    {
     "data": {
      "text/html": [
       "<div>\n",
       "<style scoped>\n",
       "    .dataframe tbody tr th:only-of-type {\n",
       "        vertical-align: middle;\n",
       "    }\n",
       "\n",
       "    .dataframe tbody tr th {\n",
       "        vertical-align: top;\n",
       "    }\n",
       "\n",
       "    .dataframe thead th {\n",
       "        text-align: right;\n",
       "    }\n",
       "</style>\n",
       "<table border=\"1\" class=\"dataframe\">\n",
       "  <thead>\n",
       "    <tr style=\"text-align: right;\">\n",
       "      <th></th>\n",
       "      <th>userId</th>\n",
       "      <th>movieId</th>\n",
       "      <th>rating</th>\n",
       "      <th>timestamp</th>\n",
       "    </tr>\n",
       "  </thead>\n",
       "  <tbody>\n",
       "    <tr>\n",
       "      <th>0</th>\n",
       "      <td>1</td>\n",
       "      <td>1</td>\n",
       "      <td>4.0</td>\n",
       "      <td>964982703</td>\n",
       "    </tr>\n",
       "    <tr>\n",
       "      <th>1</th>\n",
       "      <td>1</td>\n",
       "      <td>3</td>\n",
       "      <td>4.0</td>\n",
       "      <td>964981247</td>\n",
       "    </tr>\n",
       "    <tr>\n",
       "      <th>2</th>\n",
       "      <td>1</td>\n",
       "      <td>6</td>\n",
       "      <td>4.0</td>\n",
       "      <td>964982224</td>\n",
       "    </tr>\n",
       "    <tr>\n",
       "      <th>3</th>\n",
       "      <td>1</td>\n",
       "      <td>47</td>\n",
       "      <td>5.0</td>\n",
       "      <td>964983815</td>\n",
       "    </tr>\n",
       "    <tr>\n",
       "      <th>4</th>\n",
       "      <td>1</td>\n",
       "      <td>50</td>\n",
       "      <td>5.0</td>\n",
       "      <td>964982931</td>\n",
       "    </tr>\n",
       "    <tr>\n",
       "      <th>...</th>\n",
       "      <td>...</td>\n",
       "      <td>...</td>\n",
       "      <td>...</td>\n",
       "      <td>...</td>\n",
       "    </tr>\n",
       "    <tr>\n",
       "      <th>100831</th>\n",
       "      <td>610</td>\n",
       "      <td>166534</td>\n",
       "      <td>4.0</td>\n",
       "      <td>1493848402</td>\n",
       "    </tr>\n",
       "    <tr>\n",
       "      <th>100832</th>\n",
       "      <td>610</td>\n",
       "      <td>168248</td>\n",
       "      <td>5.0</td>\n",
       "      <td>1493850091</td>\n",
       "    </tr>\n",
       "    <tr>\n",
       "      <th>100833</th>\n",
       "      <td>610</td>\n",
       "      <td>168250</td>\n",
       "      <td>5.0</td>\n",
       "      <td>1494273047</td>\n",
       "    </tr>\n",
       "    <tr>\n",
       "      <th>100834</th>\n",
       "      <td>610</td>\n",
       "      <td>168252</td>\n",
       "      <td>5.0</td>\n",
       "      <td>1493846352</td>\n",
       "    </tr>\n",
       "    <tr>\n",
       "      <th>100835</th>\n",
       "      <td>610</td>\n",
       "      <td>170875</td>\n",
       "      <td>3.0</td>\n",
       "      <td>1493846415</td>\n",
       "    </tr>\n",
       "  </tbody>\n",
       "</table>\n",
       "<p>100836 rows × 4 columns</p>\n",
       "</div>"
      ],
      "text/plain": [
       "        userId  movieId  rating   timestamp\n",
       "0            1        1     4.0   964982703\n",
       "1            1        3     4.0   964981247\n",
       "2            1        6     4.0   964982224\n",
       "3            1       47     5.0   964983815\n",
       "4            1       50     5.0   964982931\n",
       "...        ...      ...     ...         ...\n",
       "100831     610   166534     4.0  1493848402\n",
       "100832     610   168248     5.0  1493850091\n",
       "100833     610   168250     5.0  1494273047\n",
       "100834     610   168252     5.0  1493846352\n",
       "100835     610   170875     3.0  1493846415\n",
       "\n",
       "[100836 rows x 4 columns]"
      ]
     },
     "execution_count": 11,
     "metadata": {},
     "output_type": "execute_result"
    }
   ],
   "source": [
    "rating"
   ]
  },
  {
   "cell_type": "markdown",
   "id": "8c45554e",
   "metadata": {},
   "source": [
    "Which movie has recieved maximum number of user ratings?"
   ]
  },
  {
   "cell_type": "code",
   "execution_count": 12,
   "id": "c671bd57",
   "metadata": {},
   "outputs": [
    {
     "data": {
      "text/html": [
       "<div>\n",
       "<style scoped>\n",
       "    .dataframe tbody tr th:only-of-type {\n",
       "        vertical-align: middle;\n",
       "    }\n",
       "\n",
       "    .dataframe tbody tr th {\n",
       "        vertical-align: top;\n",
       "    }\n",
       "\n",
       "    .dataframe thead th {\n",
       "        text-align: right;\n",
       "    }\n",
       "</style>\n",
       "<table border=\"1\" class=\"dataframe\">\n",
       "  <thead>\n",
       "    <tr style=\"text-align: right;\">\n",
       "      <th></th>\n",
       "      <th>rating</th>\n",
       "    </tr>\n",
       "    <tr>\n",
       "      <th>title</th>\n",
       "      <th></th>\n",
       "    </tr>\n",
       "  </thead>\n",
       "  <tbody>\n",
       "    <tr>\n",
       "      <th>Matrix, The (1999)</th>\n",
       "      <td>278</td>\n",
       "    </tr>\n",
       "    <tr>\n",
       "      <th>Silence of the Lambs, The (1991)</th>\n",
       "      <td>279</td>\n",
       "    </tr>\n",
       "    <tr>\n",
       "      <th>Pulp Fiction (1994)</th>\n",
       "      <td>307</td>\n",
       "    </tr>\n",
       "    <tr>\n",
       "      <th>Shawshank Redemption, The (1994)</th>\n",
       "      <td>317</td>\n",
       "    </tr>\n",
       "    <tr>\n",
       "      <th>Forrest Gump (1994)</th>\n",
       "      <td>329</td>\n",
       "    </tr>\n",
       "  </tbody>\n",
       "</table>\n",
       "</div>"
      ],
      "text/plain": [
       "                                  rating\n",
       "title                                   \n",
       "Matrix, The (1999)                   278\n",
       "Silence of the Lambs, The (1991)     279\n",
       "Pulp Fiction (1994)                  307\n",
       "Shawshank Redemption, The (1994)     317\n",
       "Forrest Gump (1994)                  329"
      ]
     },
     "execution_count": 12,
     "metadata": {},
     "output_type": "execute_result"
    }
   ],
   "source": [
    "merging = movies.merge(rating, how='inner', on='movieId')\n",
    "countratings = pd.DataFrame(merging.groupby('title')['rating'].count()).sort_values('rating')\n",
    "countratings.tail()"
   ]
  },
  {
   "cell_type": "markdown",
   "id": "1ed234e5",
   "metadata": {},
   "source": [
    "Select all the correct tags submitted by users to \"Matrix, The (1999)\" movie?"
   ]
  },
  {
   "cell_type": "code",
   "execution_count": 13,
   "id": "6f37200a",
   "metadata": {},
   "outputs": [
    {
     "data": {
      "text/html": [
       "<div>\n",
       "<style scoped>\n",
       "    .dataframe tbody tr th:only-of-type {\n",
       "        vertical-align: middle;\n",
       "    }\n",
       "\n",
       "    .dataframe tbody tr th {\n",
       "        vertical-align: top;\n",
       "    }\n",
       "\n",
       "    .dataframe thead th {\n",
       "        text-align: right;\n",
       "    }\n",
       "</style>\n",
       "<table border=\"1\" class=\"dataframe\">\n",
       "  <thead>\n",
       "    <tr style=\"text-align: right;\">\n",
       "      <th></th>\n",
       "      <th>movieId</th>\n",
       "      <th>title</th>\n",
       "      <th>genres</th>\n",
       "      <th>userId</th>\n",
       "      <th>tag</th>\n",
       "      <th>timestamp</th>\n",
       "    </tr>\n",
       "  </thead>\n",
       "  <tbody>\n",
       "    <tr>\n",
       "      <th>2674</th>\n",
       "      <td>2571</td>\n",
       "      <td>Matrix, The (1999)</td>\n",
       "      <td>Action|Sci-Fi|Thriller</td>\n",
       "      <td>424.0</td>\n",
       "      <td>martial arts</td>\n",
       "      <td>1.457843e+09</td>\n",
       "    </tr>\n",
       "    <tr>\n",
       "      <th>2675</th>\n",
       "      <td>2571</td>\n",
       "      <td>Matrix, The (1999)</td>\n",
       "      <td>Action|Sci-Fi|Thriller</td>\n",
       "      <td>424.0</td>\n",
       "      <td>sci-fi</td>\n",
       "      <td>1.457843e+09</td>\n",
       "    </tr>\n",
       "    <tr>\n",
       "      <th>2676</th>\n",
       "      <td>2571</td>\n",
       "      <td>Matrix, The (1999)</td>\n",
       "      <td>Action|Sci-Fi|Thriller</td>\n",
       "      <td>474.0</td>\n",
       "      <td>alternate universe</td>\n",
       "      <td>1.137205e+09</td>\n",
       "    </tr>\n",
       "    <tr>\n",
       "      <th>2677</th>\n",
       "      <td>2571</td>\n",
       "      <td>Matrix, The (1999)</td>\n",
       "      <td>Action|Sci-Fi|Thriller</td>\n",
       "      <td>537.0</td>\n",
       "      <td>philosophy</td>\n",
       "      <td>1.424141e+09</td>\n",
       "    </tr>\n",
       "    <tr>\n",
       "      <th>2678</th>\n",
       "      <td>2571</td>\n",
       "      <td>Matrix, The (1999)</td>\n",
       "      <td>Action|Sci-Fi|Thriller</td>\n",
       "      <td>537.0</td>\n",
       "      <td>post apocalyptic</td>\n",
       "      <td>1.424141e+09</td>\n",
       "    </tr>\n",
       "  </tbody>\n",
       "</table>\n",
       "</div>"
      ],
      "text/plain": [
       "      movieId               title                  genres  userId  \\\n",
       "2674     2571  Matrix, The (1999)  Action|Sci-Fi|Thriller   424.0   \n",
       "2675     2571  Matrix, The (1999)  Action|Sci-Fi|Thriller   424.0   \n",
       "2676     2571  Matrix, The (1999)  Action|Sci-Fi|Thriller   474.0   \n",
       "2677     2571  Matrix, The (1999)  Action|Sci-Fi|Thriller   537.0   \n",
       "2678     2571  Matrix, The (1999)  Action|Sci-Fi|Thriller   537.0   \n",
       "\n",
       "                     tag     timestamp  \n",
       "2674        martial arts  1.457843e+09  \n",
       "2675              sci-fi  1.457843e+09  \n",
       "2676  alternate universe  1.137205e+09  \n",
       "2677          philosophy  1.424141e+09  \n",
       "2678    post apocalyptic  1.424141e+09  "
      ]
     },
     "execution_count": 13,
     "metadata": {},
     "output_type": "execute_result"
    }
   ],
   "source": [
    "tagmerged = movies.merge(tags, how='outer', on='movieId')\n",
    "tagmerged[tagmerged['title']=='Matrix, The (1999)']"
   ]
  },
  {
   "cell_type": "markdown",
   "id": "4be6435d",
   "metadata": {},
   "source": [
    "What is the average user rating for movie named \"Terminator 2: Judgment Day (1991)\"?"
   ]
  },
  {
   "cell_type": "code",
   "execution_count": 20,
   "id": "7ad73f6b",
   "metadata": {},
   "outputs": [
    {
     "data": {
      "text/plain": [
       "3.970982142857143"
      ]
     },
     "execution_count": 20,
     "metadata": {},
     "output_type": "execute_result"
    }
   ],
   "source": [
    "merged = movies.merge(rating,how = 'inner', on='movieId')\n",
    "merged[merged['title'] == \"Terminator 2: Judgment Day (1991)\"].rating.mean()"
   ]
  },
  {
   "cell_type": "markdown",
   "id": "9b48ab38",
   "metadata": {},
   "source": [
    "How does the data distribution of user ratings for \"Fight Club (1999)\" movie looks like?"
   ]
  },
  {
   "cell_type": "code",
   "execution_count": 21,
   "id": "ae2f91c6",
   "metadata": {},
   "outputs": [
    {
     "data": {
      "text/plain": [
       "<Axes: ylabel='Density'>"
      ]
     },
     "execution_count": 21,
     "metadata": {},
     "output_type": "execute_result"
    },
    {
     "data": {
      "image/png": "[encoded data removed]",
      "text/plain": [
       "<Figure size 640x480 with 1 Axes>"
      ]
     },
     "metadata": {},
     "output_type": "display_data"
    }
   ],
   "source": [
    "merged[merged['title'] ==  \"Fight Club (1999)\"].rating.plot(kind = 'kde')"
   ]
  },
  {
   "cell_type": "markdown",
   "id": "9ddd9b82",
   "metadata": {},
   "source": [
    "Which movie is the most popular based on  average user ratings?\n"
   ]
  },
  {
   "cell_type": "code",
   "execution_count": 69,
   "id": "d14a4759",
   "metadata": {},
   "outputs": [
    {
     "data": {
      "text/html": [
       "<div>\n",
       "<style scoped>\n",
       "    .dataframe tbody tr th:only-of-type {\n",
       "        vertical-align: middle;\n",
       "    }\n",
       "\n",
       "    .dataframe tbody tr th {\n",
       "        vertical-align: top;\n",
       "    }\n",
       "\n",
       "    .dataframe thead th {\n",
       "        text-align: right;\n",
       "    }\n",
       "</style>\n",
       "<table border=\"1\" class=\"dataframe\">\n",
       "  <thead>\n",
       "    <tr style=\"text-align: right;\">\n",
       "      <th></th>\n",
       "      <th>title</th>\n",
       "      <th>rating</th>\n",
       "    </tr>\n",
       "  </thead>\n",
       "  <tbody>\n",
       "    <tr>\n",
       "      <th>426</th>\n",
       "      <td>Wild Wild West (1999)</td>\n",
       "      <td>2.207547</td>\n",
       "    </tr>\n",
       "    <tr>\n",
       "      <th>104</th>\n",
       "      <td>Coneheads (1993)</td>\n",
       "      <td>2.420635</td>\n",
       "    </tr>\n",
       "    <tr>\n",
       "      <th>94</th>\n",
       "      <td>City Slickers II: The Legend of Curly's Gold (...</td>\n",
       "      <td>2.645455</td>\n",
       "    </tr>\n",
       "    <tr>\n",
       "      <th>222</th>\n",
       "      <td>Judge Dredd (1995)</td>\n",
       "      <td>2.669355</td>\n",
       "    </tr>\n",
       "    <tr>\n",
       "      <th>221</th>\n",
       "      <td>Johnny Mnemonic (1995)</td>\n",
       "      <td>2.679245</td>\n",
       "    </tr>\n",
       "    <tr>\n",
       "      <th>...</th>\n",
       "      <td>...</td>\n",
       "      <td>...</td>\n",
       "    </tr>\n",
       "    <tr>\n",
       "      <th>131</th>\n",
       "      <td>Dr. Strangelove or: How I Learned to Stop Worr...</td>\n",
       "      <td>4.268041</td>\n",
       "    </tr>\n",
       "    <tr>\n",
       "      <th>107</th>\n",
       "      <td>Cool Hand Luke (1967)</td>\n",
       "      <td>4.271930</td>\n",
       "    </tr>\n",
       "    <tr>\n",
       "      <th>151</th>\n",
       "      <td>Fight Club (1999)</td>\n",
       "      <td>4.272936</td>\n",
       "    </tr>\n",
       "    <tr>\n",
       "      <th>170</th>\n",
       "      <td>Godfather, The (1972)</td>\n",
       "      <td>4.289062</td>\n",
       "    </tr>\n",
       "    <tr>\n",
       "      <th>343</th>\n",
       "      <td>Shawshank Redemption, The (1994)</td>\n",
       "      <td>4.429022</td>\n",
       "    </tr>\n",
       "  </tbody>\n",
       "</table>\n",
       "<p>436 rows × 2 columns</p>\n",
       "</div>"
      ],
      "text/plain": [
       "                                                 title    rating\n",
       "426                              Wild Wild West (1999)  2.207547\n",
       "104                                   Coneheads (1993)  2.420635\n",
       "94   City Slickers II: The Legend of Curly's Gold (...  2.645455\n",
       "222                                 Judge Dredd (1995)  2.669355\n",
       "221                             Johnny Mnemonic (1995)  2.679245\n",
       "..                                                 ...       ...\n",
       "131  Dr. Strangelove or: How I Learned to Stop Worr...  4.268041\n",
       "107                              Cool Hand Luke (1967)  4.271930\n",
       "151                                  Fight Club (1999)  4.272936\n",
       "170                              Godfather, The (1972)  4.289062\n",
       "343                   Shawshank Redemption, The (1994)  4.429022\n",
       "\n",
       "[436 rows x 2 columns]"
      ]
     },
     "execution_count": 69,
     "metadata": {},
     "output_type": "execute_result"
    }
   ],
   "source": [
    "grouped_ratings = rating.groupby('movieId')['rating'].agg(['count', 'mean']).reset_index()\n",
    "merge = movies.merge(grouped_ratings, on='movieId')\n",
    "filtered = fil.merge(rating, on='movieId')\n",
    "average_ratings = filtered.groupby('title')['rating'].mean().reset_index()\n",
    "average_ratings.sort_values(by='rating')"
   ]
  },
  {
   "cell_type": "code",
   "execution_count": 31,
   "id": "080f04c0",
   "metadata": {},
   "outputs": [
    {
     "data": {
      "text/html": [
       "<div>\n",
       "<style scoped>\n",
       "    .dataframe tbody tr th:only-of-type {\n",
       "        vertical-align: middle;\n",
       "    }\n",
       "\n",
       "    .dataframe tbody tr th {\n",
       "        vertical-align: top;\n",
       "    }\n",
       "\n",
       "    .dataframe thead th {\n",
       "        text-align: right;\n",
       "    }\n",
       "</style>\n",
       "<table border=\"1\" class=\"dataframe\">\n",
       "  <thead>\n",
       "    <tr style=\"text-align: right;\">\n",
       "      <th></th>\n",
       "      <th>userId</th>\n",
       "      <th>movieId</th>\n",
       "      <th>rating</th>\n",
       "      <th>timestamp</th>\n",
       "      <th>title</th>\n",
       "      <th>genres</th>\n",
       "    </tr>\n",
       "  </thead>\n",
       "  <tbody>\n",
       "    <tr>\n",
       "      <th>0</th>\n",
       "      <td>1</td>\n",
       "      <td>1</td>\n",
       "      <td>4.0</td>\n",
       "      <td>964982703</td>\n",
       "      <td>Toy Story (1995)</td>\n",
       "      <td>Adventure|Animation|Children|Comedy|Fantasy</td>\n",
       "    </tr>\n",
       "    <tr>\n",
       "      <th>1</th>\n",
       "      <td>5</td>\n",
       "      <td>1</td>\n",
       "      <td>4.0</td>\n",
       "      <td>847434962</td>\n",
       "      <td>Toy Story (1995)</td>\n",
       "      <td>Adventure|Animation|Children|Comedy|Fantasy</td>\n",
       "    </tr>\n",
       "    <tr>\n",
       "      <th>2</th>\n",
       "      <td>7</td>\n",
       "      <td>1</td>\n",
       "      <td>4.5</td>\n",
       "      <td>1106635946</td>\n",
       "      <td>Toy Story (1995)</td>\n",
       "      <td>Adventure|Animation|Children|Comedy|Fantasy</td>\n",
       "    </tr>\n",
       "    <tr>\n",
       "      <th>3</th>\n",
       "      <td>15</td>\n",
       "      <td>1</td>\n",
       "      <td>2.5</td>\n",
       "      <td>1510577970</td>\n",
       "      <td>Toy Story (1995)</td>\n",
       "      <td>Adventure|Animation|Children|Comedy|Fantasy</td>\n",
       "    </tr>\n",
       "    <tr>\n",
       "      <th>4</th>\n",
       "      <td>17</td>\n",
       "      <td>1</td>\n",
       "      <td>4.5</td>\n",
       "      <td>1305696483</td>\n",
       "      <td>Toy Story (1995)</td>\n",
       "      <td>Adventure|Animation|Children|Comedy|Fantasy</td>\n",
       "    </tr>\n",
       "    <tr>\n",
       "      <th>...</th>\n",
       "      <td>...</td>\n",
       "      <td>...</td>\n",
       "      <td>...</td>\n",
       "      <td>...</td>\n",
       "      <td>...</td>\n",
       "      <td>...</td>\n",
       "    </tr>\n",
       "    <tr>\n",
       "      <th>100831</th>\n",
       "      <td>610</td>\n",
       "      <td>160341</td>\n",
       "      <td>2.5</td>\n",
       "      <td>1479545749</td>\n",
       "      <td>Bloodmoon (1997)</td>\n",
       "      <td>Action|Thriller</td>\n",
       "    </tr>\n",
       "    <tr>\n",
       "      <th>100832</th>\n",
       "      <td>610</td>\n",
       "      <td>160527</td>\n",
       "      <td>4.5</td>\n",
       "      <td>1479544998</td>\n",
       "      <td>Sympathy for the Underdog (1971)</td>\n",
       "      <td>Action|Crime|Drama</td>\n",
       "    </tr>\n",
       "    <tr>\n",
       "      <th>100833</th>\n",
       "      <td>610</td>\n",
       "      <td>160836</td>\n",
       "      <td>3.0</td>\n",
       "      <td>1493844794</td>\n",
       "      <td>Hazard (2005)</td>\n",
       "      <td>Action|Drama|Thriller</td>\n",
       "    </tr>\n",
       "    <tr>\n",
       "      <th>100834</th>\n",
       "      <td>610</td>\n",
       "      <td>163937</td>\n",
       "      <td>3.5</td>\n",
       "      <td>1493848789</td>\n",
       "      <td>Blair Witch (2016)</td>\n",
       "      <td>Horror|Thriller</td>\n",
       "    </tr>\n",
       "    <tr>\n",
       "      <th>100835</th>\n",
       "      <td>610</td>\n",
       "      <td>163981</td>\n",
       "      <td>3.5</td>\n",
       "      <td>1493850155</td>\n",
       "      <td>31 (2016)</td>\n",
       "      <td>Horror</td>\n",
       "    </tr>\n",
       "  </tbody>\n",
       "</table>\n",
       "<p>100836 rows × 6 columns</p>\n",
       "</div>"
      ],
      "text/plain": [
       "        userId  movieId  rating   timestamp                             title  \\\n",
       "0            1        1     4.0   964982703                  Toy Story (1995)   \n",
       "1            5        1     4.0   847434962                  Toy Story (1995)   \n",
       "2            7        1     4.5  1106635946                  Toy Story (1995)   \n",
       "3           15        1     2.5  1510577970                  Toy Story (1995)   \n",
       "4           17        1     4.5  1305696483                  Toy Story (1995)   \n",
       "...        ...      ...     ...         ...                               ...   \n",
       "100831     610   160341     2.5  1479545749                  Bloodmoon (1997)   \n",
       "100832     610   160527     4.5  1479544998  Sympathy for the Underdog (1971)   \n",
       "100833     610   160836     3.0  1493844794                     Hazard (2005)   \n",
       "100834     610   163937     3.5  1493848789                Blair Witch (2016)   \n",
       "100835     610   163981     3.5  1493850155                         31 (2016)   \n",
       "\n",
       "                                             genres  \n",
       "0       Adventure|Animation|Children|Comedy|Fantasy  \n",
       "1       Adventure|Animation|Children|Comedy|Fantasy  \n",
       "2       Adventure|Animation|Children|Comedy|Fantasy  \n",
       "3       Adventure|Animation|Children|Comedy|Fantasy  \n",
       "4       Adventure|Animation|Children|Comedy|Fantasy  \n",
       "...                                             ...  \n",
       "100831                              Action|Thriller  \n",
       "100832                           Action|Crime|Drama  \n",
       "100833                        Action|Drama|Thriller  \n",
       "100834                              Horror|Thriller  \n",
       "100835                                       Horror  \n",
       "\n",
       "[100836 rows x 6 columns]"
      ]
     },
     "execution_count": 31,
     "metadata": {},
     "output_type": "execute_result"
    }
   ],
   "source": [
    "merged = pd.merge(rating, movies, on='movieId', how='inner')\n",
    "merged."
   ]
  },
  {
   "cell_type": "markdown",
   "id": "0b8b805a",
   "metadata": {},
   "source": [
    "Select all the correct options which comes under top 5 popular movies based on number of user ratings."
   ]
  },
  {
   "cell_type": "code",
   "execution_count": 39,
   "id": "426f9120",
   "metadata": {},
   "outputs": [
    {
     "data": {
      "text/html": [
       "<div>\n",
       "<style scoped>\n",
       "    .dataframe tbody tr th:only-of-type {\n",
       "        vertical-align: middle;\n",
       "    }\n",
       "\n",
       "    .dataframe tbody tr th {\n",
       "        vertical-align: top;\n",
       "    }\n",
       "\n",
       "    .dataframe thead th {\n",
       "        text-align: right;\n",
       "    }\n",
       "</style>\n",
       "<table border=\"1\" class=\"dataframe\">\n",
       "  <thead>\n",
       "    <tr style=\"text-align: right;\">\n",
       "      <th></th>\n",
       "      <th>title</th>\n",
       "    </tr>\n",
       "  </thead>\n",
       "  <tbody>\n",
       "    <tr>\n",
       "      <th>0</th>\n",
       "      <td>Forrest Gump (1994)</td>\n",
       "    </tr>\n",
       "    <tr>\n",
       "      <th>1</th>\n",
       "      <td>Shawshank Redemption, The (1994)</td>\n",
       "    </tr>\n",
       "    <tr>\n",
       "      <th>2</th>\n",
       "      <td>Pulp Fiction (1994)</td>\n",
       "    </tr>\n",
       "    <tr>\n",
       "      <th>3</th>\n",
       "      <td>Silence of the Lambs, The (1991)</td>\n",
       "    </tr>\n",
       "    <tr>\n",
       "      <th>4</th>\n",
       "      <td>Matrix, The (1999)</td>\n",
       "    </tr>\n",
       "  </tbody>\n",
       "</table>\n",
       "</div>"
      ],
      "text/plain": [
       "                              title\n",
       "0               Forrest Gump (1994)\n",
       "1  Shawshank Redemption, The (1994)\n",
       "2               Pulp Fiction (1994)\n",
       "3  Silence of the Lambs, The (1991)\n",
       "4                Matrix, The (1999)"
      ]
     },
     "execution_count": 39,
     "metadata": {},
     "output_type": "execute_result"
    }
   ],
   "source": [
    "merged = pd.merge(rating, movies, on='movieId', how='inner')\n",
    "ratings_count = merged.groupby('title')['rating'].count()\n",
    "top_5 = ratings_count.sort_values(ascending=False).head(5).index\n",
    "pd.DataFrame(top_5)"
   ]
  },
  {
   "cell_type": "markdown",
   "id": "d02a34ba",
   "metadata": {},
   "source": [
    "Which Sci-Fi movie is \"third most popular\" based on the number of user ratings?"
   ]
  },
  {
   "cell_type": "code",
   "execution_count": 58,
   "id": "e4187485",
   "metadata": {},
   "outputs": [
    {
     "data": {
      "text/plain": [
       "movieId                                 480\n",
       "title                  Jurassic Park (1993)\n",
       "genres     Action|Adventure|Sci-Fi|Thriller\n",
       "count                                   238\n",
       "mean                                   3.75\n",
       "Name: 418, dtype: object"
      ]
     },
     "execution_count": 58,
     "metadata": {},
     "output_type": "execute_result"
    }
   ],
   "source": [
    "grouped_rating = rating.groupby('movieId')['rating'].agg(['count', 'mean']).reset_index()\n",
    "merged = pd.merge(movies, grouped_rating, on='movieId', how='inner')\n",
    "filtered = merged_df[merged_df['count'] > 50][filtered_df['genres'].str.contains('Sci-Fi')]\n",
    "filtered.sort_values(by='count', ascending=False).iloc[2]"
   ]
  },
  {
   "cell_type": "code",
   "execution_count": 51,
   "id": "496003b5",
   "metadata": {},
   "outputs": [],
   "source": [
    "def scrapper(imdbId):\n",
    "    id = str(int(imdbId))\n",
    "    n_zeroes = 7 - len(id)\n",
    "    new_id = \"0\"*n_zeroes + id\n",
    "    URL = f\"https://www.imdb.com/title/tt%7Bnew_id%7D/\"\n",
    "    request_header = {'Content-Type': 'text/html; charset=UTF-8', \n",
    "                      'User-Agent': 'Mozilla/5.0 (Windows NT 10.0; Win64; x64; rv:109.0) Gecko/20100101 Firefox/119.0', \n",
    "                      'Accept-Encoding': 'gzip, deflate, br'}\n",
    "    response = requests.get(URL, headers=request_header)\n",
    "    soup = BeautifulSoup(response.text)\n",
    "    imdb_rating = soup.find('span', attrs={'class' : \"sc-bde20123-1 cMEQkK\"})\n",
    "    return imdb_rating.text if imdb_rating else np.nan"
   ]
  },
  {
   "cell_type": "code",
   "execution_count": 57,
   "id": "f70b4314",
   "metadata": {},
   "outputs": [
    {
     "data": {
      "text/html": [
       "<div>\n",
       "<style scoped>\n",
       "    .dataframe tbody tr th:only-of-type {\n",
       "        vertical-align: middle;\n",
       "    }\n",
       "\n",
       "    .dataframe tbody tr th {\n",
       "        vertical-align: top;\n",
       "    }\n",
       "\n",
       "    .dataframe thead th {\n",
       "        text-align: right;\n",
       "    }\n",
       "</style>\n",
       "<table border=\"1\" class=\"dataframe\">\n",
       "  <thead>\n",
       "    <tr style=\"text-align: right;\">\n",
       "      <th></th>\n",
       "      <th>movieId</th>\n",
       "      <th>title</th>\n",
       "      <th>genres</th>\n",
       "      <th>count</th>\n",
       "      <th>mean</th>\n",
       "      <th>imdbId</th>\n",
       "      <th>tmdbId</th>\n",
       "    </tr>\n",
       "  </thead>\n",
       "  <tbody>\n",
       "    <tr>\n",
       "      <th>47</th>\n",
       "      <td>2701</td>\n",
       "      <td>Wild Wild West (1999)</td>\n",
       "      <td>Action|Comedy|Sci-Fi|Western</td>\n",
       "      <td>53</td>\n",
       "      <td>2.207547</td>\n",
       "      <td>120891</td>\n",
       "      <td>8487.0</td>\n",
       "    </tr>\n",
       "    <tr>\n",
       "      <th>9</th>\n",
       "      <td>435</td>\n",
       "      <td>Coneheads (1993)</td>\n",
       "      <td>Comedy|Sci-Fi</td>\n",
       "      <td>63</td>\n",
       "      <td>2.420635</td>\n",
       "      <td>106598</td>\n",
       "      <td>9612.0</td>\n",
       "    </tr>\n",
       "    <tr>\n",
       "      <th>3</th>\n",
       "      <td>173</td>\n",
       "      <td>Judge Dredd (1995)</td>\n",
       "      <td>Action|Crime|Sci-Fi</td>\n",
       "      <td>62</td>\n",
       "      <td>2.669355</td>\n",
       "      <td>113492</td>\n",
       "      <td>9482.0</td>\n",
       "    </tr>\n",
       "    <tr>\n",
       "      <th>2</th>\n",
       "      <td>172</td>\n",
       "      <td>Johnny Mnemonic (1995)</td>\n",
       "      <td>Action|Sci-Fi|Thriller</td>\n",
       "      <td>53</td>\n",
       "      <td>2.679245</td>\n",
       "      <td>113481</td>\n",
       "      <td>9886.0</td>\n",
       "    </tr>\n",
       "    <tr>\n",
       "      <th>14</th>\n",
       "      <td>673</td>\n",
       "      <td>Space Jam (1996)</td>\n",
       "      <td>Adventure|Animation|Children|Comedy|Fantasy|Sc...</td>\n",
       "      <td>53</td>\n",
       "      <td>2.707547</td>\n",
       "      <td>117705</td>\n",
       "      <td>2300.0</td>\n",
       "    </tr>\n",
       "    <tr>\n",
       "      <th>...</th>\n",
       "      <td>...</td>\n",
       "      <td>...</td>\n",
       "      <td>...</td>\n",
       "      <td>...</td>\n",
       "      <td>...</td>\n",
       "      <td>...</td>\n",
       "      <td>...</td>\n",
       "    </tr>\n",
       "    <tr>\n",
       "      <th>68</th>\n",
       "      <td>7361</td>\n",
       "      <td>Eternal Sunshine of the Spotless Mind (2004)</td>\n",
       "      <td>Drama|Romance|Sci-Fi</td>\n",
       "      <td>131</td>\n",
       "      <td>4.160305</td>\n",
       "      <td>338013</td>\n",
       "      <td>38.0</td>\n",
       "    </tr>\n",
       "    <tr>\n",
       "      <th>21</th>\n",
       "      <td>1199</td>\n",
       "      <td>Brazil (1985)</td>\n",
       "      <td>Fantasy|Sci-Fi</td>\n",
       "      <td>59</td>\n",
       "      <td>4.177966</td>\n",
       "      <td>88846</td>\n",
       "      <td>68.0</td>\n",
       "    </tr>\n",
       "    <tr>\n",
       "      <th>43</th>\n",
       "      <td>2571</td>\n",
       "      <td>Matrix, The (1999)</td>\n",
       "      <td>Action|Sci-Fi|Thriller</td>\n",
       "      <td>278</td>\n",
       "      <td>4.192446</td>\n",
       "      <td>133093</td>\n",
       "      <td>603.0</td>\n",
       "    </tr>\n",
       "    <tr>\n",
       "      <th>20</th>\n",
       "      <td>1196</td>\n",
       "      <td>Star Wars: Episode V - The Empire Strikes Back...</td>\n",
       "      <td>Action|Adventure|Sci-Fi</td>\n",
       "      <td>211</td>\n",
       "      <td>4.215640</td>\n",
       "      <td>80684</td>\n",
       "      <td>1891.0</td>\n",
       "    </tr>\n",
       "    <tr>\n",
       "      <th>5</th>\n",
       "      <td>260</td>\n",
       "      <td>Star Wars: Episode IV - A New Hope (1977)</td>\n",
       "      <td>Action|Adventure|Sci-Fi</td>\n",
       "      <td>251</td>\n",
       "      <td>4.231076</td>\n",
       "      <td>76759</td>\n",
       "      <td>11.0</td>\n",
       "    </tr>\n",
       "  </tbody>\n",
       "</table>\n",
       "<p>88 rows × 7 columns</p>\n",
       "</div>"
      ],
      "text/plain": [
       "    movieId                                              title  \\\n",
       "47     2701                              Wild Wild West (1999)   \n",
       "9       435                                   Coneheads (1993)   \n",
       "3       173                                 Judge Dredd (1995)   \n",
       "2       172                             Johnny Mnemonic (1995)   \n",
       "14      673                                   Space Jam (1996)   \n",
       "..      ...                                                ...   \n",
       "68     7361       Eternal Sunshine of the Spotless Mind (2004)   \n",
       "21     1199                                      Brazil (1985)   \n",
       "43     2571                                 Matrix, The (1999)   \n",
       "20     1196  Star Wars: Episode V - The Empire Strikes Back...   \n",
       "5       260          Star Wars: Episode IV - A New Hope (1977)   \n",
       "\n",
       "                                               genres  count      mean  \\\n",
       "47                       Action|Comedy|Sci-Fi|Western     53  2.207547   \n",
       "9                                       Comedy|Sci-Fi     63  2.420635   \n",
       "3                                 Action|Crime|Sci-Fi     62  2.669355   \n",
       "2                              Action|Sci-Fi|Thriller     53  2.679245   \n",
       "14  Adventure|Animation|Children|Comedy|Fantasy|Sc...     53  2.707547   \n",
       "..                                                ...    ...       ...   \n",
       "68                               Drama|Romance|Sci-Fi    131  4.160305   \n",
       "21                                     Fantasy|Sci-Fi     59  4.177966   \n",
       "43                             Action|Sci-Fi|Thriller    278  4.192446   \n",
       "20                            Action|Adventure|Sci-Fi    211  4.215640   \n",
       "5                             Action|Adventure|Sci-Fi    251  4.231076   \n",
       "\n",
       "    imdbId  tmdbId  \n",
       "47  120891  8487.0  \n",
       "9   106598  9612.0  \n",
       "3   113492  9482.0  \n",
       "2   113481  9886.0  \n",
       "14  117705  2300.0  \n",
       "..     ...     ...  \n",
       "68  338013    38.0  \n",
       "21   88846    68.0  \n",
       "43  133093   603.0  \n",
       "20   80684  1891.0  \n",
       "5    76759    11.0  \n",
       "\n",
       "[88 rows x 7 columns]"
      ]
     },
     "execution_count": 57,
     "metadata": {},
     "output_type": "execute_result"
    }
   ],
   "source": [
    "filtered.merge(links, how='inner', on='movieId').sort_values('mean')"
   ]
  },
  {
   "cell_type": "code",
   "execution_count": null,
   "id": "2e04eec8",
   "metadata": {},
   "outputs": [],
   "source": []
  }
 ],
 "metadata": {
  "kernelspec": {
   "display_name": "Python 3 (ipykernel)",
   "language": "python",
   "name": "python3"
  },
  "language_info": {
   "codemirror_mode": {
    "name": "ipython",
    "version": 3
   },
   "file_extension": ".py",
   "mimetype": "text/x-python",
   "name": "python",
   "nbconvert_exporter": "python",
   "pygments_lexer": "ipython3",
   "version": "3.11.4"
  }
 },
 "nbformat": 4,
 "nbformat_minor": 5
}
